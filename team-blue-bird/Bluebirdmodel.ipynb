{
 "cells": [
  {
   "cell_type": "code",
   "execution_count": 13,
   "metadata": {},
   "outputs": [],
   "source": [
    "import numpy as np # linear algebra\n",
    "import pandas as pd # data processing, CSV file I/O (e.g. pd.read_csv)\n",
    "import datetime\n",
    "import os\n",
    "import time\n",
    "import gc\n",
    "from sklearn.model_selection import StratifiedKFold, KFold\n",
    "from sklearn import metrics\n",
    "from sklearn.metrics import mean_squared_error\n",
    "from sklearn.metrics import log_loss\n",
    "from sklearn.metrics import confusion_matrix\n",
    "from sklearn.metrics import mean_squared_error\n",
    "import lightgbm as lgb\n",
    "import seaborn as sns\n",
    "import matplotlib.pyplot as plt\n",
    "from sklearn.preprocessing import MinMaxScaler\n",
    "from sklearn.feature_selection import RFECV"
   ]
  },
  {
   "cell_type": "code",
   "execution_count": 14,
   "metadata": {},
   "outputs": [],
   "source": [
    "import xgboost as xgb\n",
    "from xgboost.sklearn import XGBRegressor\n",
    "from sklearn.model_selection import GridSearchCV"
   ]
  },
  {
   "cell_type": "code",
   "execution_count": 15,
   "metadata": {},
   "outputs": [],
   "source": [
    "from xgboost import plot_importance\n",
    "from matplotlib import pyplot\n"
   ]
  },
  {
   "cell_type": "markdown",
   "metadata": {},
   "source": [
    "# Load csv data into memory"
   ]
  },
  {
   "cell_type": "code",
   "execution_count": 54,
   "metadata": {},
   "outputs": [],
   "source": [
    "missing_values = [\"n/a\", \"na\", \"--\", \"None\", \"nan\"]"
   ]
  },
  {
   "cell_type": "code",
   "execution_count": 55,
   "metadata": {},
   "outputs": [],
   "source": [
    "flight_shopping = pd.read_csv(\"flight_shopping_10_percent.csv\", na_values = missing_values)"
   ]
  },
  {
   "cell_type": "code",
   "execution_count": 18,
   "metadata": {},
   "outputs": [
    {
     "data": {
      "text/plain": [
       "(4235, 8)"
      ]
     },
     "execution_count": 18,
     "metadata": {},
     "output_type": "execute_result"
    }
   ],
   "source": [
    "flight_shopping.shape"
   ]
  },
  {
   "cell_type": "markdown",
   "metadata": {},
   "source": [
    "# Preprocessing"
   ]
  },
  {
   "cell_type": "code",
   "execution_count": 19,
   "metadata": {},
   "outputs": [],
   "source": [
    "flight_shopping = flight_shopping[((flight_shopping['sum(estimated_time)'] - flight_shopping['sum(estimated_time)'].mean()) / flight_shopping['sum(estimated_time)'].std()).abs() < 3]"
   ]
  },
  {
   "cell_type": "code",
   "execution_count": 20,
   "metadata": {},
   "outputs": [
    {
     "data": {
      "text/plain": [
       "(4191, 8)"
      ]
     },
     "execution_count": 20,
     "metadata": {},
     "output_type": "execute_result"
    }
   ],
   "source": [
    "flight_shopping.shape"
   ]
  },
  {
   "cell_type": "code",
   "execution_count": 57,
   "metadata": {},
   "outputs": [
    {
     "data": {
      "text/html": [
       "<div>\n",
       "<style scoped>\n",
       "    .dataframe tbody tr th:only-of-type {\n",
       "        vertical-align: middle;\n",
       "    }\n",
       "\n",
       "    .dataframe tbody tr th {\n",
       "        vertical-align: top;\n",
       "    }\n",
       "\n",
       "    .dataframe thead th {\n",
       "        text-align: right;\n",
       "    }\n",
       "</style>\n",
       "<table border=\"1\" class=\"dataframe\">\n",
       "  <thead>\n",
       "    <tr style=\"text-align: right;\">\n",
       "      <th></th>\n",
       "      <th>Gate</th>\n",
       "      <th>Arrival</th>\n",
       "      <th>Date</th>\n",
       "      <th>Schedule_Depart_Time</th>\n",
       "      <th>Actual_Depart_Time</th>\n",
       "      <th>Actual_Arrival_Time</th>\n",
       "      <th>Flying_Hours</th>\n",
       "      <th>sum(estimated_time)</th>\n",
       "    </tr>\n",
       "  </thead>\n",
       "  <tbody>\n",
       "    <tr>\n",
       "      <th>0</th>\n",
       "      <td>C44</td>\n",
       "      <td>Bogota</td>\n",
       "      <td>10/18/2019</td>\n",
       "      <td>6.5</td>\n",
       "      <td>7.316667</td>\n",
       "      <td>11:39</td>\n",
       "      <td>6:20</td>\n",
       "      <td>1705.395432</td>\n",
       "    </tr>\n",
       "    <tr>\n",
       "      <th>1</th>\n",
       "      <td>C44</td>\n",
       "      <td>Bogota</td>\n",
       "      <td>10/19/2019</td>\n",
       "      <td>6.5</td>\n",
       "      <td>6.683333</td>\n",
       "      <td>10:53</td>\n",
       "      <td>6:12</td>\n",
       "      <td>6722.978906</td>\n",
       "    </tr>\n",
       "    <tr>\n",
       "      <th>2</th>\n",
       "      <td>C44</td>\n",
       "      <td>Bogota</td>\n",
       "      <td>10/20/2019</td>\n",
       "      <td>6.5</td>\n",
       "      <td>7.266667</td>\n",
       "      <td>11:31</td>\n",
       "      <td>6:15</td>\n",
       "      <td>16.548587</td>\n",
       "    </tr>\n",
       "    <tr>\n",
       "      <th>3</th>\n",
       "      <td>C44</td>\n",
       "      <td>Bogota</td>\n",
       "      <td>10/21/2019</td>\n",
       "      <td>6.5</td>\n",
       "      <td>6.916667</td>\n",
       "      <td>11:31</td>\n",
       "      <td>6:36</td>\n",
       "      <td>4451.408472</td>\n",
       "    </tr>\n",
       "    <tr>\n",
       "      <th>4</th>\n",
       "      <td>C44</td>\n",
       "      <td>Bogota</td>\n",
       "      <td>10/23/2019</td>\n",
       "      <td>6.5</td>\n",
       "      <td>7.850000</td>\n",
       "      <td>12:25</td>\n",
       "      <td>6:34</td>\n",
       "      <td>9134.047758</td>\n",
       "    </tr>\n",
       "  </tbody>\n",
       "</table>\n",
       "</div>"
      ],
      "text/plain": [
       "  Gate Arrival        Date  Schedule_Depart_Time  Actual_Depart_Time  \\\n",
       "0  C44  Bogota  10/18/2019                   6.5            7.316667   \n",
       "1  C44  Bogota  10/19/2019                   6.5            6.683333   \n",
       "2  C44  Bogota  10/20/2019                   6.5            7.266667   \n",
       "3  C44  Bogota  10/21/2019                   6.5            6.916667   \n",
       "4  C44  Bogota  10/23/2019                   6.5            7.850000   \n",
       "\n",
       "  Actual_Arrival_Time Flying_Hours  sum(estimated_time)  \n",
       "0               11:39         6:20          1705.395432  \n",
       "1               10:53         6:12          6722.978906  \n",
       "2               11:31         6:15            16.548587  \n",
       "3               11:31         6:36          4451.408472  \n",
       "4               12:25         6:34          9134.047758  "
      ]
     },
     "execution_count": 57,
     "metadata": {},
     "output_type": "execute_result"
    }
   ],
   "source": [
    "flight_shopping.head()"
   ]
  },
  {
   "cell_type": "code",
   "execution_count": 22,
   "metadata": {},
   "outputs": [],
   "source": [
    "et_low = flight_shopping['sum(estimated_time)'].quantile(0.2)\n",
    "et_high = flight_shopping['sum(estimated_time)'].quantile(0.75)\n",
    "\n",
    "flight_shopping = flight_shopping[(flight_shopping['sum(estimated_time)']<et_high)&(flight_shopping['sum(estimated_time)']>et_low)]"
   ]
  },
  {
   "cell_type": "code",
   "execution_count": 23,
   "metadata": {},
   "outputs": [
    {
     "data": {
      "text/plain": [
       "2815.4744703399897"
      ]
     },
     "execution_count": 23,
     "metadata": {},
     "output_type": "execute_result"
    }
   ],
   "source": [
    "et_low"
   ]
  },
  {
   "cell_type": "code",
   "execution_count": 24,
   "metadata": {},
   "outputs": [
    {
     "data": {
      "text/plain": [
       "Text(0, 0.5, 'Flights')"
      ]
     },
     "execution_count": 24,
     "metadata": {},
     "output_type": "execute_result"
    },
    {
     "data": {
      "image/png": "[encoded data removed]",
      "text/plain": [
       "<Figure size 432x288 with 1 Axes>"
      ]
     },
     "metadata": {
      "needs_background": "light"
     },
     "output_type": "display_data"
    }
   ],
   "source": [
    "plt.hist(flight_shopping['sum(estimated_time)'], color = 'blue', edgecolor = 'black',\n",
    "         bins = int(9000/100))\n",
    "\n",
    "# seaborn histogram\n",
    "sns.distplot(flight_shopping['sum(estimated_time)'], hist=True, kde=False, \n",
    "             bins=int(9000/100), color = 'blue',\n",
    "             hist_kws={'edgecolor':'black'})\n",
    "# Add labels\n",
    "plt.title('Histogram of Arrival Delays')\n",
    "plt.xlabel('Delay (min)')\n",
    "plt.ylabel('Flights')"
   ]
  },
  {
   "cell_type": "code",
   "execution_count": 25,
   "metadata": {},
   "outputs": [
    {
     "ename": "NameError",
     "evalue": "name 'N' is not defined",
     "output_type": "error",
     "traceback": [
      "\u001b[0;31m---------------------------------------------------------------------------\u001b[0m",
      "\u001b[0;31mNameError\u001b[0m                                 Traceback (most recent call last)",
      "\u001b[0;32m<ipython-input-25-7b324b463fb6>\u001b[0m in \u001b[0;36m<module>\u001b[0;34m\u001b[0m\n\u001b[0;32m----> 1\u001b[0;31m \u001b[0mx\u001b[0m \u001b[0;34m=\u001b[0m \u001b[0mnp\u001b[0m\u001b[0;34m.\u001b[0m\u001b[0mrandom\u001b[0m\u001b[0;34m.\u001b[0m\u001b[0mrand\u001b[0m\u001b[0;34m(\u001b[0m\u001b[0mN\u001b[0m\u001b[0;34m)\u001b[0m\u001b[0;34m\u001b[0m\u001b[0;34m\u001b[0m\u001b[0m\n\u001b[0m\u001b[1;32m      2\u001b[0m \u001b[0my\u001b[0m \u001b[0;34m=\u001b[0m \u001b[0mnp\u001b[0m\u001b[0;34m.\u001b[0m\u001b[0mrandom\u001b[0m\u001b[0;34m.\u001b[0m\u001b[0mrand\u001b[0m\u001b[0;34m(\u001b[0m\u001b[0mN\u001b[0m\u001b[0;34m)\u001b[0m\u001b[0;34m\u001b[0m\u001b[0;34m\u001b[0m\u001b[0m\n\u001b[1;32m      3\u001b[0m \u001b[0mcolors\u001b[0m \u001b[0;34m=\u001b[0m \u001b[0mnp\u001b[0m\u001b[0;34m.\u001b[0m\u001b[0mrandom\u001b[0m\u001b[0;34m.\u001b[0m\u001b[0mrand\u001b[0m\u001b[0;34m(\u001b[0m\u001b[0mN\u001b[0m\u001b[0;34m)\u001b[0m\u001b[0;34m\u001b[0m\u001b[0;34m\u001b[0m\u001b[0m\n\u001b[1;32m      4\u001b[0m \u001b[0marea\u001b[0m \u001b[0;34m=\u001b[0m \u001b[0;34m(\u001b[0m\u001b[0;36m30\u001b[0m \u001b[0;34m*\u001b[0m \u001b[0mnp\u001b[0m\u001b[0;34m.\u001b[0m\u001b[0mrandom\u001b[0m\u001b[0;34m.\u001b[0m\u001b[0mrand\u001b[0m\u001b[0;34m(\u001b[0m\u001b[0mN\u001b[0m\u001b[0;34m)\u001b[0m\u001b[0;34m)\u001b[0m\u001b[0;34m**\u001b[0m\u001b[0;36m2\u001b[0m  \u001b[0;31m# 0 to 15 point radii\u001b[0m\u001b[0;34m\u001b[0m\u001b[0;34m\u001b[0m\u001b[0m\n\u001b[1;32m      5\u001b[0m \u001b[0;34m\u001b[0m\u001b[0m\n",
      "\u001b[0;31mNameError\u001b[0m: name 'N' is not defined"
     ]
    }
   ],
   "source": [
    "x = np.random.rand(N)\n",
    "y = np.random.rand(N)\n",
    "colors = np.random.rand(N)\n",
    "area = (30 * np.random.rand(N))**2  # 0 to 15 point radii\n",
    "\n",
    "plt.scatter(x, y, s=area, c=colors, alpha=0.5)\n",
    "plt.show()"
   ]
  },
  {
   "cell_type": "code",
   "execution_count": 26,
   "metadata": {},
   "outputs": [
    {
     "data": {
      "text/plain": [
       "(2304, 8)"
      ]
     },
     "execution_count": 26,
     "metadata": {},
     "output_type": "execute_result"
    }
   ],
   "source": [
    "flight_shopping.shape"
   ]
  },
  {
   "cell_type": "code",
   "execution_count": 27,
   "metadata": {},
   "outputs": [],
   "source": [
    "train_x = flight_shopping[['Gate', 'Arrival', 'Date', 'Schedule_Depart_Time', 'Flying_Hours']]"
   ]
  },
  {
   "cell_type": "code",
   "execution_count": 28,
   "metadata": {},
   "outputs": [
    {
     "data": {
      "text/html": [
       "<div>\n",
       "<style scoped>\n",
       "    .dataframe tbody tr th:only-of-type {\n",
       "        vertical-align: middle;\n",
       "    }\n",
       "\n",
       "    .dataframe tbody tr th {\n",
       "        vertical-align: top;\n",
       "    }\n",
       "\n",
       "    .dataframe thead th {\n",
       "        text-align: right;\n",
       "    }\n",
       "</style>\n",
       "<table border=\"1\" class=\"dataframe\">\n",
       "  <thead>\n",
       "    <tr style=\"text-align: right;\">\n",
       "      <th></th>\n",
       "      <th>Gate</th>\n",
       "      <th>Arrival</th>\n",
       "      <th>Date</th>\n",
       "      <th>Schedule_Depart_Time</th>\n",
       "      <th>Flying_Hours</th>\n",
       "    </tr>\n",
       "  </thead>\n",
       "  <tbody>\n",
       "    <tr>\n",
       "      <th>1</th>\n",
       "      <td>C44</td>\n",
       "      <td>Bogota</td>\n",
       "      <td>10/19/2019</td>\n",
       "      <td>6.500000</td>\n",
       "      <td>6:12</td>\n",
       "    </tr>\n",
       "    <tr>\n",
       "      <th>3</th>\n",
       "      <td>C44</td>\n",
       "      <td>Bogota</td>\n",
       "      <td>10/21/2019</td>\n",
       "      <td>6.500000</td>\n",
       "      <td>6:36</td>\n",
       "    </tr>\n",
       "    <tr>\n",
       "      <th>4</th>\n",
       "      <td>C44</td>\n",
       "      <td>Bogota</td>\n",
       "      <td>10/23/2019</td>\n",
       "      <td>6.500000</td>\n",
       "      <td>6:34</td>\n",
       "    </tr>\n",
       "    <tr>\n",
       "      <th>6</th>\n",
       "      <td>C44</td>\n",
       "      <td>Bogota</td>\n",
       "      <td>12/20/2019</td>\n",
       "      <td>6.416667</td>\n",
       "      <td>6:11</td>\n",
       "    </tr>\n",
       "    <tr>\n",
       "      <th>7</th>\n",
       "      <td>C44</td>\n",
       "      <td>Buenos Aires</td>\n",
       "      <td>10/10/2019</td>\n",
       "      <td>7.583333</td>\n",
       "      <td>3:35</td>\n",
       "    </tr>\n",
       "  </tbody>\n",
       "</table>\n",
       "</div>"
      ],
      "text/plain": [
       "  Gate       Arrival        Date  Schedule_Depart_Time Flying_Hours\n",
       "1  C44        Bogota  10/19/2019              6.500000         6:12\n",
       "3  C44        Bogota  10/21/2019              6.500000         6:36\n",
       "4  C44        Bogota  10/23/2019              6.500000         6:34\n",
       "6  C44        Bogota  12/20/2019              6.416667         6:11\n",
       "7  C44  Buenos Aires  10/10/2019              7.583333         3:35"
      ]
     },
     "execution_count": 28,
     "metadata": {},
     "output_type": "execute_result"
    }
   ],
   "source": [
    "train_x.head()"
   ]
  },
  {
   "cell_type": "code",
   "execution_count": 29,
   "metadata": {},
   "outputs": [],
   "source": [
    "train_y = flight_shopping[['sum(estimated_time)']]"
   ]
  },
  {
   "cell_type": "code",
   "execution_count": 30,
   "metadata": {},
   "outputs": [
    {
     "data": {
      "text/html": [
       "<div>\n",
       "<style scoped>\n",
       "    .dataframe tbody tr th:only-of-type {\n",
       "        vertical-align: middle;\n",
       "    }\n",
       "\n",
       "    .dataframe tbody tr th {\n",
       "        vertical-align: top;\n",
       "    }\n",
       "\n",
       "    .dataframe thead th {\n",
       "        text-align: right;\n",
       "    }\n",
       "</style>\n",
       "<table border=\"1\" class=\"dataframe\">\n",
       "  <thead>\n",
       "    <tr style=\"text-align: right;\">\n",
       "      <th></th>\n",
       "      <th>sum(estimated_time)</th>\n",
       "    </tr>\n",
       "  </thead>\n",
       "  <tbody>\n",
       "    <tr>\n",
       "      <th>1</th>\n",
       "      <td>6722.978906</td>\n",
       "    </tr>\n",
       "    <tr>\n",
       "      <th>3</th>\n",
       "      <td>4451.408472</td>\n",
       "    </tr>\n",
       "    <tr>\n",
       "      <th>4</th>\n",
       "      <td>9134.047758</td>\n",
       "    </tr>\n",
       "    <tr>\n",
       "      <th>6</th>\n",
       "      <td>8665.250886</td>\n",
       "    </tr>\n",
       "    <tr>\n",
       "      <th>7</th>\n",
       "      <td>4323.170957</td>\n",
       "    </tr>\n",
       "  </tbody>\n",
       "</table>\n",
       "</div>"
      ],
      "text/plain": [
       "   sum(estimated_time)\n",
       "1          6722.978906\n",
       "3          4451.408472\n",
       "4          9134.047758\n",
       "6          8665.250886\n",
       "7          4323.170957"
      ]
     },
     "execution_count": 30,
     "metadata": {},
     "output_type": "execute_result"
    }
   ],
   "source": [
    "train_y.head()"
   ]
  },
  {
   "cell_type": "code",
   "execution_count": 31,
   "metadata": {},
   "outputs": [
    {
     "data": {
      "text/plain": [
       "Gate                     0\n",
       "Arrival                  0\n",
       "Date                     0\n",
       "Schedule_Depart_Time     0\n",
       "Flying_Hours            57\n",
       "dtype: int64"
      ]
     },
     "execution_count": 31,
     "metadata": {},
     "output_type": "execute_result"
    }
   ],
   "source": [
    "train_x.isnull().sum()"
   ]
  },
  {
   "cell_type": "code",
   "execution_count": null,
   "metadata": {},
   "outputs": [],
   "source": []
  },
  {
   "cell_type": "code",
   "execution_count": 37,
   "metadata": {},
   "outputs": [],
   "source": [
    "def hour_convert(x):\n",
    "    if type(x) == str:\n",
    "        h,m = map(int,x.split(':'))\n",
    "        return (h*60+m)\n",
    "    else:\n",
    "        print(type(x))\n",
    "        print(x)\n",
    "        return x\n",
    "    \n",
    "def fill_0(x):\n",
    "    if x == 0:\n",
    "        x = 445.63260525617636\n",
    "\n",
    "    return x\n",
    "\n",
    "def hr_min(x):\n",
    "    return x*60"
   ]
  },
  {
   "cell_type": "code",
   "execution_count": 36,
   "metadata": {},
   "outputs": [
    {
     "data": {
      "text/plain": [
       "445.63260525617636"
      ]
     },
     "execution_count": 36,
     "metadata": {},
     "output_type": "execute_result"
    }
   ],
   "source": [
    "train_x.Flying_Hours.mean()"
   ]
  },
  {
   "cell_type": "code",
   "execution_count": 34,
   "metadata": {},
   "outputs": [
    {
     "name": "stderr",
     "output_type": "stream",
     "text": [
      "/Users/ziluli/anaconda3/envs/elo/lib/python3.6/site-packages/pandas/core/generic.py:4405: SettingWithCopyWarning: \n",
      "A value is trying to be set on a copy of a slice from a DataFrame.\n",
      "Try using .loc[row_indexer,col_indexer] = value instead\n",
      "\n",
      "See the caveats in the documentation: http://pandas.pydata.org/pandas-docs/stable/indexing.html#indexing-view-versus-copy\n",
      "  self[name] = value\n"
     ]
    }
   ],
   "source": [
    "train_x.Flying_Hours = train_x.Flying_Hours.fillna('0:0')\n",
    "train_x.Flying_Hours = train_x.Flying_Hours.apply(hour_convert)"
   ]
  },
  {
   "cell_type": "code",
   "execution_count": 38,
   "metadata": {},
   "outputs": [],
   "source": [
    "train_x.Flying_Hours = train_x.Flying_Hours.apply(fill_0)"
   ]
  },
  {
   "cell_type": "code",
   "execution_count": 39,
   "metadata": {},
   "outputs": [],
   "source": [
    "train_x.Schedule_Depart_Time = train_x.Schedule_Depart_Time.apply(hr_min)\n",
    "# train_x.Actual_Depart_Time = train_x.Actual_Depart_Time.apply(hr_min)"
   ]
  },
  {
   "cell_type": "code",
   "execution_count": 40,
   "metadata": {},
   "outputs": [
    {
     "name": "stderr",
     "output_type": "stream",
     "text": [
      "/Users/ziluli/.local/lib/python3.6/site-packages/ipykernel_launcher.py:1: SettingWithCopyWarning: \n",
      "A value is trying to be set on a copy of a slice from a DataFrame.\n",
      "Try using .loc[row_indexer,col_indexer] = value instead\n",
      "\n",
      "See the caveats in the documentation: http://pandas.pydata.org/pandas-docs/stable/indexing.html#indexing-view-versus-copy\n",
      "  \"\"\"Entry point for launching an IPython kernel.\n"
     ]
    }
   ],
   "source": [
    "train_y['sum(estimated_time)'] = train_y['sum(estimated_time)'].fillna(train_y['sum(estimated_time)'].mean())"
   ]
  },
  {
   "cell_type": "code",
   "execution_count": 41,
   "metadata": {},
   "outputs": [
    {
     "data": {
      "text/html": [
       "<div>\n",
       "<style scoped>\n",
       "    .dataframe tbody tr th:only-of-type {\n",
       "        vertical-align: middle;\n",
       "    }\n",
       "\n",
       "    .dataframe tbody tr th {\n",
       "        vertical-align: top;\n",
       "    }\n",
       "\n",
       "    .dataframe thead th {\n",
       "        text-align: right;\n",
       "    }\n",
       "</style>\n",
       "<table border=\"1\" class=\"dataframe\">\n",
       "  <thead>\n",
       "    <tr style=\"text-align: right;\">\n",
       "      <th></th>\n",
       "      <th>Gate</th>\n",
       "      <th>Arrival</th>\n",
       "      <th>Date</th>\n",
       "      <th>Schedule_Depart_Time</th>\n",
       "      <th>Flying_Hours</th>\n",
       "    </tr>\n",
       "  </thead>\n",
       "  <tbody>\n",
       "    <tr>\n",
       "      <th>1</th>\n",
       "      <td>C44</td>\n",
       "      <td>Bogota</td>\n",
       "      <td>10/19/2019</td>\n",
       "      <td>390.0</td>\n",
       "      <td>372.0</td>\n",
       "    </tr>\n",
       "    <tr>\n",
       "      <th>3</th>\n",
       "      <td>C44</td>\n",
       "      <td>Bogota</td>\n",
       "      <td>10/21/2019</td>\n",
       "      <td>390.0</td>\n",
       "      <td>396.0</td>\n",
       "    </tr>\n",
       "    <tr>\n",
       "      <th>4</th>\n",
       "      <td>C44</td>\n",
       "      <td>Bogota</td>\n",
       "      <td>10/23/2019</td>\n",
       "      <td>390.0</td>\n",
       "      <td>394.0</td>\n",
       "    </tr>\n",
       "    <tr>\n",
       "      <th>6</th>\n",
       "      <td>C44</td>\n",
       "      <td>Bogota</td>\n",
       "      <td>12/20/2019</td>\n",
       "      <td>385.0</td>\n",
       "      <td>371.0</td>\n",
       "    </tr>\n",
       "    <tr>\n",
       "      <th>7</th>\n",
       "      <td>C44</td>\n",
       "      <td>Buenos Aires</td>\n",
       "      <td>10/10/2019</td>\n",
       "      <td>455.0</td>\n",
       "      <td>215.0</td>\n",
       "    </tr>\n",
       "  </tbody>\n",
       "</table>\n",
       "</div>"
      ],
      "text/plain": [
       "  Gate       Arrival        Date  Schedule_Depart_Time  Flying_Hours\n",
       "1  C44        Bogota  10/19/2019                 390.0         372.0\n",
       "3  C44        Bogota  10/21/2019                 390.0         396.0\n",
       "4  C44        Bogota  10/23/2019                 390.0         394.0\n",
       "6  C44        Bogota  12/20/2019                 385.0         371.0\n",
       "7  C44  Buenos Aires  10/10/2019                 455.0         215.0"
      ]
     },
     "execution_count": 41,
     "metadata": {},
     "output_type": "execute_result"
    }
   ],
   "source": [
    "train_x.head()"
   ]
  },
  {
   "cell_type": "code",
   "execution_count": 42,
   "metadata": {},
   "outputs": [],
   "source": [
    "train = flight_shopping"
   ]
  },
  {
   "cell_type": "code",
   "execution_count": 43,
   "metadata": {},
   "outputs": [
    {
     "name": "stderr",
     "output_type": "stream",
     "text": [
      "/Users/ziluli/.local/lib/python3.6/site-packages/ipykernel_launcher.py:1: SettingWithCopyWarning: \n",
      "A value is trying to be set on a copy of a slice from a DataFrame.\n",
      "Try using .loc[row_indexer,col_indexer] = value instead\n",
      "\n",
      "See the caveats in the documentation: http://pandas.pydata.org/pandas-docs/stable/indexing.html#indexing-view-versus-copy\n",
      "  \"\"\"Entry point for launching an IPython kernel.\n"
     ]
    }
   ],
   "source": [
    "train_x['Date'] = pd.to_datetime(train_x['Date'], errors='coerce')"
   ]
  },
  {
   "cell_type": "code",
   "execution_count": 44,
   "metadata": {},
   "outputs": [],
   "source": [
    "def sec_min(x):\n",
    "    return x/60"
   ]
  },
  {
   "cell_type": "code",
   "execution_count": 45,
   "metadata": {},
   "outputs": [],
   "source": [
    "train_y = train_y.apply(sec_min)"
   ]
  },
  {
   "cell_type": "code",
   "execution_count": 46,
   "metadata": {},
   "outputs": [
    {
     "data": {
      "text/html": [
       "<div>\n",
       "<style scoped>\n",
       "    .dataframe tbody tr th:only-of-type {\n",
       "        vertical-align: middle;\n",
       "    }\n",
       "\n",
       "    .dataframe tbody tr th {\n",
       "        vertical-align: top;\n",
       "    }\n",
       "\n",
       "    .dataframe thead th {\n",
       "        text-align: right;\n",
       "    }\n",
       "</style>\n",
       "<table border=\"1\" class=\"dataframe\">\n",
       "  <thead>\n",
       "    <tr style=\"text-align: right;\">\n",
       "      <th></th>\n",
       "      <th>sum(estimated_time)</th>\n",
       "    </tr>\n",
       "  </thead>\n",
       "  <tbody>\n",
       "    <tr>\n",
       "      <th>1</th>\n",
       "      <td>112.049648</td>\n",
       "    </tr>\n",
       "    <tr>\n",
       "      <th>3</th>\n",
       "      <td>74.190141</td>\n",
       "    </tr>\n",
       "    <tr>\n",
       "      <th>4</th>\n",
       "      <td>152.234129</td>\n",
       "    </tr>\n",
       "    <tr>\n",
       "      <th>6</th>\n",
       "      <td>144.420848</td>\n",
       "    </tr>\n",
       "    <tr>\n",
       "      <th>7</th>\n",
       "      <td>72.052849</td>\n",
       "    </tr>\n",
       "  </tbody>\n",
       "</table>\n",
       "</div>"
      ],
      "text/plain": [
       "   sum(estimated_time)\n",
       "1           112.049648\n",
       "3            74.190141\n",
       "4           152.234129\n",
       "6           144.420848\n",
       "7            72.052849"
      ]
     },
     "execution_count": 46,
     "metadata": {},
     "output_type": "execute_result"
    }
   ],
   "source": [
    "train_y.head()"
   ]
  },
  {
   "cell_type": "markdown",
   "metadata": {},
   "source": [
    "# Data Transformation"
   ]
  },
  {
   "cell_type": "code",
   "execution_count": 47,
   "metadata": {},
   "outputs": [],
   "source": [
    "def time_convert(x):\n",
    "    h,m = map(int,x.split(':'))\n",
    "    return (h*60+m)\n",
    "\n",
    "def aggregate_nmt(train):\n",
    "    train['year'] = train['Date'].dt.year\n",
    "    train['weekofyear'] = train['Date'].dt.weekofyear\n",
    "    train['month'] = train['Date'].dt.month\n",
    "    train['dayofweek'] = train['Date'].dt.dayofweek\n",
    "\n",
    "    train.loc[:, 'Date'] = pd.DatetimeIndex(train['Date']).astype(np.int64) * 1e-9\n",
    "\n",
    "    train = pd.get_dummies(train, columns=['Gate', 'Arrival'])\n",
    "\n",
    "    return train"
   ]
  },
  {
   "cell_type": "code",
   "execution_count": 48,
   "metadata": {},
   "outputs": [
    {
     "name": "stderr",
     "output_type": "stream",
     "text": [
      "/Users/ziluli/.local/lib/python3.6/site-packages/ipykernel_launcher.py:6: SettingWithCopyWarning: \n",
      "A value is trying to be set on a copy of a slice from a DataFrame.\n",
      "Try using .loc[row_indexer,col_indexer] = value instead\n",
      "\n",
      "See the caveats in the documentation: http://pandas.pydata.org/pandas-docs/stable/indexing.html#indexing-view-versus-copy\n",
      "  \n",
      "/Users/ziluli/.local/lib/python3.6/site-packages/ipykernel_launcher.py:7: SettingWithCopyWarning: \n",
      "A value is trying to be set on a copy of a slice from a DataFrame.\n",
      "Try using .loc[row_indexer,col_indexer] = value instead\n",
      "\n",
      "See the caveats in the documentation: http://pandas.pydata.org/pandas-docs/stable/indexing.html#indexing-view-versus-copy\n",
      "  import sys\n"
     ]
    }
   ],
   "source": [
    "train_x = aggregate_nmt(train_x)"
   ]
  },
  {
   "cell_type": "code",
   "execution_count": 49,
   "metadata": {},
   "outputs": [
    {
     "data": {
      "text/html": [
       "<div>\n",
       "<style scoped>\n",
       "    .dataframe tbody tr th:only-of-type {\n",
       "        vertical-align: middle;\n",
       "    }\n",
       "\n",
       "    .dataframe tbody tr th {\n",
       "        vertical-align: top;\n",
       "    }\n",
       "\n",
       "    .dataframe thead th {\n",
       "        text-align: right;\n",
       "    }\n",
       "</style>\n",
       "<table border=\"1\" class=\"dataframe\">\n",
       "  <thead>\n",
       "    <tr style=\"text-align: right;\">\n",
       "      <th></th>\n",
       "      <th>Date</th>\n",
       "      <th>Schedule_Depart_Time</th>\n",
       "      <th>Flying_Hours</th>\n",
       "      <th>year</th>\n",
       "      <th>weekofyear</th>\n",
       "      <th>month</th>\n",
       "      <th>dayofweek</th>\n",
       "      <th>Gate_C44</th>\n",
       "      <th>Gate_C45</th>\n",
       "      <th>Gate_C46</th>\n",
       "      <th>...</th>\n",
       "      <th>Arrival_New York</th>\n",
       "      <th>Arrival_Panama City</th>\n",
       "      <th>Arrival_Paris</th>\n",
       "      <th>Arrival_Porto</th>\n",
       "      <th>Arrival_Recife</th>\n",
       "      <th>Arrival_Rome</th>\n",
       "      <th>Arrival_Rosario</th>\n",
       "      <th>Arrival_Salvador</th>\n",
       "      <th>Arrival_Santiago</th>\n",
       "      <th>Arrival_Zurich</th>\n",
       "    </tr>\n",
       "  </thead>\n",
       "  <tbody>\n",
       "    <tr>\n",
       "      <th>1</th>\n",
       "      <td>1.571443e+09</td>\n",
       "      <td>390.0</td>\n",
       "      <td>372.0</td>\n",
       "      <td>2019</td>\n",
       "      <td>42</td>\n",
       "      <td>10</td>\n",
       "      <td>5</td>\n",
       "      <td>1</td>\n",
       "      <td>0</td>\n",
       "      <td>0</td>\n",
       "      <td>...</td>\n",
       "      <td>0</td>\n",
       "      <td>0</td>\n",
       "      <td>0</td>\n",
       "      <td>0</td>\n",
       "      <td>0</td>\n",
       "      <td>0</td>\n",
       "      <td>0</td>\n",
       "      <td>0</td>\n",
       "      <td>0</td>\n",
       "      <td>0</td>\n",
       "    </tr>\n",
       "    <tr>\n",
       "      <th>3</th>\n",
       "      <td>1.571616e+09</td>\n",
       "      <td>390.0</td>\n",
       "      <td>396.0</td>\n",
       "      <td>2019</td>\n",
       "      <td>43</td>\n",
       "      <td>10</td>\n",
       "      <td>0</td>\n",
       "      <td>1</td>\n",
       "      <td>0</td>\n",
       "      <td>0</td>\n",
       "      <td>...</td>\n",
       "      <td>0</td>\n",
       "      <td>0</td>\n",
       "      <td>0</td>\n",
       "      <td>0</td>\n",
       "      <td>0</td>\n",
       "      <td>0</td>\n",
       "      <td>0</td>\n",
       "      <td>0</td>\n",
       "      <td>0</td>\n",
       "      <td>0</td>\n",
       "    </tr>\n",
       "    <tr>\n",
       "      <th>4</th>\n",
       "      <td>1.571789e+09</td>\n",
       "      <td>390.0</td>\n",
       "      <td>394.0</td>\n",
       "      <td>2019</td>\n",
       "      <td>43</td>\n",
       "      <td>10</td>\n",
       "      <td>2</td>\n",
       "      <td>1</td>\n",
       "      <td>0</td>\n",
       "      <td>0</td>\n",
       "      <td>...</td>\n",
       "      <td>0</td>\n",
       "      <td>0</td>\n",
       "      <td>0</td>\n",
       "      <td>0</td>\n",
       "      <td>0</td>\n",
       "      <td>0</td>\n",
       "      <td>0</td>\n",
       "      <td>0</td>\n",
       "      <td>0</td>\n",
       "      <td>0</td>\n",
       "    </tr>\n",
       "    <tr>\n",
       "      <th>6</th>\n",
       "      <td>1.576800e+09</td>\n",
       "      <td>385.0</td>\n",
       "      <td>371.0</td>\n",
       "      <td>2019</td>\n",
       "      <td>51</td>\n",
       "      <td>12</td>\n",
       "      <td>4</td>\n",
       "      <td>1</td>\n",
       "      <td>0</td>\n",
       "      <td>0</td>\n",
       "      <td>...</td>\n",
       "      <td>0</td>\n",
       "      <td>0</td>\n",
       "      <td>0</td>\n",
       "      <td>0</td>\n",
       "      <td>0</td>\n",
       "      <td>0</td>\n",
       "      <td>0</td>\n",
       "      <td>0</td>\n",
       "      <td>0</td>\n",
       "      <td>0</td>\n",
       "    </tr>\n",
       "    <tr>\n",
       "      <th>7</th>\n",
       "      <td>1.570666e+09</td>\n",
       "      <td>455.0</td>\n",
       "      <td>215.0</td>\n",
       "      <td>2019</td>\n",
       "      <td>41</td>\n",
       "      <td>10</td>\n",
       "      <td>3</td>\n",
       "      <td>1</td>\n",
       "      <td>0</td>\n",
       "      <td>0</td>\n",
       "      <td>...</td>\n",
       "      <td>0</td>\n",
       "      <td>0</td>\n",
       "      <td>0</td>\n",
       "      <td>0</td>\n",
       "      <td>0</td>\n",
       "      <td>0</td>\n",
       "      <td>0</td>\n",
       "      <td>0</td>\n",
       "      <td>0</td>\n",
       "      <td>0</td>\n",
       "    </tr>\n",
       "  </tbody>\n",
       "</table>\n",
       "<p>5 rows × 60 columns</p>\n",
       "</div>"
      ],
      "text/plain": [
       "           Date  Schedule_Depart_Time  Flying_Hours  year  weekofyear  month  \\\n",
       "1  1.571443e+09                 390.0         372.0  2019          42     10   \n",
       "3  1.571616e+09                 390.0         396.0  2019          43     10   \n",
       "4  1.571789e+09                 390.0         394.0  2019          43     10   \n",
       "6  1.576800e+09                 385.0         371.0  2019          51     12   \n",
       "7  1.570666e+09                 455.0         215.0  2019          41     10   \n",
       "\n",
       "   dayofweek  Gate_C44  Gate_C45  Gate_C46       ...        Arrival_New York  \\\n",
       "1          5         1         0         0       ...                       0   \n",
       "3          0         1         0         0       ...                       0   \n",
       "4          2         1         0         0       ...                       0   \n",
       "6          4         1         0         0       ...                       0   \n",
       "7          3         1         0         0       ...                       0   \n",
       "\n",
       "   Arrival_Panama City  Arrival_Paris  Arrival_Porto  Arrival_Recife  \\\n",
       "1                    0              0              0               0   \n",
       "3                    0              0              0               0   \n",
       "4                    0              0              0               0   \n",
       "6                    0              0              0               0   \n",
       "7                    0              0              0               0   \n",
       "\n",
       "   Arrival_Rome  Arrival_Rosario  Arrival_Salvador  Arrival_Santiago  \\\n",
       "1             0                0                 0                 0   \n",
       "3             0                0                 0                 0   \n",
       "4             0                0                 0                 0   \n",
       "6             0                0                 0                 0   \n",
       "7             0                0                 0                 0   \n",
       "\n",
       "   Arrival_Zurich  \n",
       "1               0  \n",
       "3               0  \n",
       "4               0  \n",
       "6               0  \n",
       "7               0  \n",
       "\n",
       "[5 rows x 60 columns]"
      ]
     },
     "execution_count": 49,
     "metadata": {},
     "output_type": "execute_result"
    }
   ],
   "source": [
    "train_x.head()"
   ]
  },
  {
   "cell_type": "code",
   "execution_count": 50,
   "metadata": {},
   "outputs": [
    {
     "data": {
      "text/plain": [
       "Index(['Date', 'Schedule_Depart_Time', 'Flying_Hours', 'year', 'weekofyear',\n",
       "       'month', 'dayofweek', 'Gate_C44', 'Gate_C45', 'Gate_C46', 'Gate_C47',\n",
       "       'Gate_C48', 'Gate_C49', 'Gate_C50', 'Gate_C51', 'Gate_C52', 'Gate_C53',\n",
       "       'Gate_C54', 'Gate_C55', 'Gate_C56', 'Gate_C57', 'Gate_C58', 'Gate_C59',\n",
       "       'Gate_C60', 'Gate_C61', 'Gate_C62', 'Gate_C63', 'Gate_C64', 'Gate_C65',\n",
       "       'Gate_C66', 'Gate_C67', 'Gate_C69', 'Arrival_Amsterdam',\n",
       "       'Arrival_Atlanta', 'Arrival_Bogota', 'Arrival_Buenos Aires',\n",
       "       'Arrival_Campinas', 'Arrival_Casablanca', 'Arrival_Cordoba',\n",
       "       'Arrival_Doha', 'Arrival_Dubai', 'Arrival_Frankfurt', 'Arrival_Houston',\n",
       "       'Arrival_Lima', 'Arrival_Lisbon', 'Arrival_London', 'Arrival_Luanda',\n",
       "       'Arrival_Madrid', 'Arrival_Miami', 'Arrival_Montevideo',\n",
       "       'Arrival_New York', 'Arrival_Panama City', 'Arrival_Paris',\n",
       "       'Arrival_Porto', 'Arrival_Recife', 'Arrival_Rome', 'Arrival_Rosario',\n",
       "       'Arrival_Salvador', 'Arrival_Santiago', 'Arrival_Zurich'],\n",
       "      dtype='object')"
      ]
     },
     "execution_count": 50,
     "metadata": {},
     "output_type": "execute_result"
    }
   ],
   "source": [
    "train_x.columns"
   ]
  },
  {
   "cell_type": "code",
   "execution_count": 144,
   "metadata": {},
   "outputs": [],
   "source": [
    "test_x = train_x.tail()"
   ]
  },
  {
   "cell_type": "markdown",
   "metadata": {},
   "source": [
    "# Train Model"
   ]
  },
  {
   "cell_type": "code",
   "execution_count": 145,
   "metadata": {},
   "outputs": [],
   "source": [
    "def kfold_lightgbm(train_df, test_df, y, num_folds, stratified = False, debug= False):\n",
    "    if stratified:\n",
    "        folds = StratifiedKFold(n_splits= num_folds, shuffle=True, random_state=17)\n",
    "    else:\n",
    "        folds = KFold(n_splits= num_folds, shuffle=True, random_state=17)\n",
    "    # Create arrays and dataframes to store results\n",
    "    oof_preds = np.zeros(train_df.shape[0])\n",
    "    sub_preds = np.zeros(test_df.shape[0])\n",
    "    feature_importance_df = pd.DataFrame()\n",
    "    feats = train_df.columns.tolist()\n",
    "#     test_df = test_df[feats]\n",
    "    #test_df = csr_matrix(test_df)\n",
    "    for n_fold, (train_idx, valid_idx) in enumerate(folds.split(train_df, y)):\n",
    "        print('FOLD {}'.format(n_fold))\n",
    "        train_x, train_y = train_df.iloc[train_idx], y.iloc[train_idx]\n",
    "        valid_x, valid_y = train_df.iloc[valid_idx], y.iloc[valid_idx]\n",
    "        lgb_params =  {\n",
    "            'task': 'train',\n",
    "            'boosting_type': 'gbdt',\n",
    "            'objective': 'regression',\n",
    "            'metric': 'rmse',\n",
    "            #\"n_estimators\":10000,\n",
    "            \"learning_rate\": 0.01,\n",
    "             \n",
    "            'num_leaves': 60,\n",
    "            'subsample': 0.6143,\n",
    "            'colsample_bytree': 0.6453,\n",
    "            'min_split_gain': np.power(10, -2.5988),\n",
    "            'reg_alpha': np.power(10, -2.2887),\n",
    "            'reg_lambda': np.power(10, 1.7570),\n",
    "            'min_child_weight': np.power(10, -0.1477),\n",
    "            'max_depth': -1,\n",
    "            #'zero_as_missing':True\n",
    "        }\n",
    "        lgb_params = {\n",
    "         'task': 'train',\n",
    "         'num_leaves': 54,\n",
    "         'min_data_in_leaf': 79,\n",
    "         'objective': 'regression',\n",
    "         'max_depth': 15,\n",
    "         'learning_rate': 0.018545526395058548,\n",
    "         \"boosting\": \"gbdt\",\n",
    "         \"feature_fraction\": 0.8354507676881442,\n",
    "         \"bagging_freq\": 3,\n",
    "         \"bagging_fraction\": 0.8126672064208567,\n",
    "         \"bagging_seed\": 11,\n",
    "         \"metric\": 'rmse',\n",
    "         \"lambda_l1\": 0.1,\n",
    "         \"verbosity\": -1,\n",
    "         'min_child_weight': 5.343384366323818,\n",
    "         'reg_alpha': 1.1302650970728192,\n",
    "         'reg_lambda': 0.3603427518866501,\n",
    "         'subsample': 0.8767547959893627,}\n",
    "        #train_x = csr_matrix(train_x)\n",
    "        #valid_x = csr_matrix(valid_x)\n",
    "        lgtrain = lgb.Dataset(train_x, train_y)\n",
    "        lgvalid = lgb.Dataset(valid_x, valid_y)\n",
    "        clf = lgb.train(\n",
    "            lgb_params,\n",
    "            lgtrain,\n",
    "            num_boost_round=3000,\n",
    "            valid_sets=[lgtrain, lgvalid],\n",
    "            valid_names=['train','valid'],\n",
    "            early_stopping_rounds=200,\n",
    "            verbose_eval=100\n",
    "        )\n",
    "         \n",
    "        oof_preds[valid_idx] = clf.predict(valid_x, num_iteration=clf.best_iteration)\n",
    "        sub_preds += clf.predict(test_df, num_iteration=clf.best_iteration)/ folds.n_splits\n",
    "        print(len(feats))\n",
    "        print(len(clf.feature_importance()))\n",
    "        fold_importance_df = pd.DataFrame()\n",
    "        fold_importance_df[\"feature\"] = feats\n",
    "        fold_importance_df[\"importance\"] = clf.feature_importance()\n",
    "        #fold_importance_df[\"importance\"] = clf.feature_importances_\n",
    "        fold_importance_df[\"fold\"] = n_fold + 1\n",
    "        feature_importance_df = pd.concat([feature_importance_df, fold_importance_df], axis=0)\n",
    "        #print('Fold %2d AUC : %.6f' % (n_fold + 1, roc_auc_score(valid_y, oof_preds[valid_idx])))\n",
    "        print('Fold %2d RMSE : %.6f' % (n_fold, np.sqrt(metrics.mean_squared_error(valid_y, oof_preds[valid_idx]))))      \n",
    "        del clf, train_x, train_y, valid_x, valid_y\n",
    "        gc.collect()\n",
    " \n",
    "    rmse = np.sqrt(metrics.mean_squared_error(y, oof_preds))\n",
    "    #print('Full AUC score %.6f' % roc_auc_score(y, oof_preds))\n",
    "    print('Full RMSE score %.6f' % rmse)\n",
    "     \n",
    "    display_importances(feature_importance_df)\n",
    "    return feature_importance_df, sub_preds\n",
    "\n",
    "# Display/plot feature importance\n",
    "def display_importances(feature_importance_df_):\n",
    "    cols = feature_importance_df_[[\"feature\", \"importance\"]].groupby(\"feature\").mean().sort_values(by=\"importance\", ascending=False)[:40].index\n",
    "    best_features = feature_importance_df_.loc[feature_importance_df_.feature.isin(cols)]\n",
    "    plt.figure(figsize=(8, 10))\n",
    "    sns.barplot(x=\"importance\", y=\"feature\", data=best_features.sort_values(by=\"importance\", ascending=False))\n",
    "    plt.title('LightGBM Features (avg over folds)')\n",
    "    plt.tight_layout()\n",
    "    plt.savefig('lgb_importances.png')"
   ]
  },
  {
   "cell_type": "code",
   "execution_count": 146,
   "metadata": {},
   "outputs": [
    {
     "name": "stdout",
     "output_type": "stream",
     "text": [
      "FOLD 0\n",
      "Training until validation scores don't improve for 200 rounds.\n",
      "[100]\ttrain's rmse: 34.8548\tvalid's rmse: 35.8825\n",
      "[200]\ttrain's rmse: 33.6125\tvalid's rmse: 35.3892\n",
      "[300]\ttrain's rmse: 32.8144\tvalid's rmse: 35.161\n",
      "[400]\ttrain's rmse: 32.1532\tvalid's rmse: 34.971\n",
      "[500]\ttrain's rmse: 31.5953\tvalid's rmse: 34.8783\n",
      "[600]\ttrain's rmse: 31.0869\tvalid's rmse: 34.851\n",
      "[700]\ttrain's rmse: 30.6297\tvalid's rmse: 34.8227\n",
      "[800]\ttrain's rmse: 30.21\tvalid's rmse: 34.8093\n",
      "[900]\ttrain's rmse: 29.8268\tvalid's rmse: 34.702\n",
      "[1000]\ttrain's rmse: 29.4487\tvalid's rmse: 34.7038\n",
      "[1100]\ttrain's rmse: 29.1273\tvalid's rmse: 34.6371\n",
      "[1200]\ttrain's rmse: 28.786\tvalid's rmse: 34.6989\n",
      "Early stopping, best iteration is:\n",
      "[1098]\ttrain's rmse: 29.1328\tvalid's rmse: 34.632\n",
      "60\n",
      "60\n",
      "Fold  0 RMSE : 34.632000\n",
      "FOLD 1\n",
      "Training until validation scores don't improve for 200 rounds.\n",
      "[100]\ttrain's rmse: 34.7654\tvalid's rmse: 36.628\n",
      "[200]\ttrain's rmse: 33.4476\tvalid's rmse: 36.1058\n",
      "[300]\ttrain's rmse: 32.6289\tvalid's rmse: 35.9785\n",
      "[400]\ttrain's rmse: 31.974\tvalid's rmse: 35.926\n",
      "[500]\ttrain's rmse: 31.3916\tvalid's rmse: 35.9541\n",
      "[600]\ttrain's rmse: 30.8899\tvalid's rmse: 35.8762\n",
      "[700]\ttrain's rmse: 30.4605\tvalid's rmse: 35.9423\n",
      "[800]\ttrain's rmse: 30.0777\tvalid's rmse: 36.0009\n",
      "Early stopping, best iteration is:\n",
      "[602]\ttrain's rmse: 30.8789\tvalid's rmse: 35.8726\n",
      "60\n",
      "60\n",
      "Fold  1 RMSE : 35.872572\n",
      "FOLD 2\n",
      "Training until validation scores don't improve for 200 rounds.\n",
      "[100]\ttrain's rmse: 34.9479\tvalid's rmse: 35.3929\n",
      "[200]\ttrain's rmse: 33.7507\tvalid's rmse: 34.929\n",
      "[300]\ttrain's rmse: 32.9744\tvalid's rmse: 34.7454\n",
      "[400]\ttrain's rmse: 32.3419\tvalid's rmse: 34.69\n",
      "[500]\ttrain's rmse: 31.7791\tvalid's rmse: 34.6171\n",
      "[600]\ttrain's rmse: 31.3098\tvalid's rmse: 34.593\n",
      "[700]\ttrain's rmse: 30.8356\tvalid's rmse: 34.5435\n",
      "[800]\ttrain's rmse: 30.4411\tvalid's rmse: 34.5598\n",
      "[900]\ttrain's rmse: 30.0518\tvalid's rmse: 34.4958\n",
      "[1000]\ttrain's rmse: 29.6907\tvalid's rmse: 34.4901\n",
      "[1100]\ttrain's rmse: 29.3367\tvalid's rmse: 34.4553\n",
      "[1200]\ttrain's rmse: 29.0045\tvalid's rmse: 34.4062\n",
      "[1300]\ttrain's rmse: 28.6698\tvalid's rmse: 34.4215\n",
      "[1400]\ttrain's rmse: 28.3846\tvalid's rmse: 34.3954\n",
      "[1500]\ttrain's rmse: 28.1207\tvalid's rmse: 34.38\n",
      "[1600]\ttrain's rmse: 27.8649\tvalid's rmse: 34.3628\n",
      "[1700]\ttrain's rmse: 27.617\tvalid's rmse: 34.3861\n",
      "[1800]\ttrain's rmse: 27.3652\tvalid's rmse: 34.3579\n",
      "[1900]\ttrain's rmse: 27.1256\tvalid's rmse: 34.3517\n",
      "[2000]\ttrain's rmse: 26.8868\tvalid's rmse: 34.3845\n",
      "Early stopping, best iteration is:\n",
      "[1874]\ttrain's rmse: 27.1866\tvalid's rmse: 34.3092\n",
      "60\n",
      "60\n",
      "Fold  2 RMSE : 34.309162\n",
      "FOLD 3\n",
      "Training until validation scores don't improve for 200 rounds.\n",
      "[100]\ttrain's rmse: 34.827\tvalid's rmse: 36.2518\n",
      "[200]\ttrain's rmse: 33.4956\tvalid's rmse: 36.0472\n",
      "[300]\ttrain's rmse: 32.6167\tvalid's rmse: 35.9951\n",
      "[400]\ttrain's rmse: 31.9289\tvalid's rmse: 35.973\n",
      "[500]\ttrain's rmse: 31.3569\tvalid's rmse: 36.0321\n",
      "Early stopping, best iteration is:\n",
      "[348]\ttrain's rmse: 32.272\tvalid's rmse: 35.9534\n",
      "60\n",
      "60\n",
      "Fold  3 RMSE : 35.953438\n",
      "Full RMSE score 35.199379\n"
     ]
    },
    {
     "name": "stderr",
     "output_type": "stream",
     "text": [
      "/Users/ziluli/anaconda3/envs/elo/lib/python3.6/site-packages/scipy/stats/stats.py:1713: FutureWarning: Using a non-tuple sequence for multidimensional indexing is deprecated; use `arr[tuple(seq)]` instead of `arr[seq]`. In the future this will be interpreted as an array index, `arr[np.array(seq)]`, which will result either in an error or a different result.\n",
      "  return np.add.reduce(sorted[indexer] * weights, axis=axis) / sumval\n"
     ]
    },
    {
     "data": {
      "image/png": "[encoded data removed]",
      "text/plain": [
       "<Figure size 576x720 with 1 Axes>"
      ]
     },
     "metadata": {
      "needs_background": "light"
     },
     "output_type": "display_data"
    }
   ],
   "source": [
    "feature_importance_df, sub_preds = kfold_lightgbm(train_x, test_x, train_y, 4, stratified = False, debug= False)"
   ]
  },
  {
   "cell_type": "code",
   "execution_count": 106,
   "metadata": {},
   "outputs": [
    {
     "data": {
      "text/plain": [
       "array([120.16680371,  49.27688007,  57.71719863, 123.29316197,\n",
       "        42.40110211])"
      ]
     },
     "execution_count": 106,
     "metadata": {},
     "output_type": "execute_result"
    }
   ],
   "source": [
    "sub_preds"
   ]
  },
  {
   "cell_type": "code",
   "execution_count": 107,
   "metadata": {},
   "outputs": [
    {
     "data": {
      "text/html": [
       "<div>\n",
       "<style scoped>\n",
       "    .dataframe tbody tr th:only-of-type {\n",
       "        vertical-align: middle;\n",
       "    }\n",
       "\n",
       "    .dataframe tbody tr th {\n",
       "        vertical-align: top;\n",
       "    }\n",
       "\n",
       "    .dataframe thead th {\n",
       "        text-align: right;\n",
       "    }\n",
       "</style>\n",
       "<table border=\"1\" class=\"dataframe\">\n",
       "  <thead>\n",
       "    <tr style=\"text-align: right;\">\n",
       "      <th></th>\n",
       "      <th>sum(estimated_time)</th>\n",
       "    </tr>\n",
       "  </thead>\n",
       "  <tbody>\n",
       "    <tr>\n",
       "      <th>4236</th>\n",
       "      <td>109.641683</td>\n",
       "    </tr>\n",
       "    <tr>\n",
       "      <th>4237</th>\n",
       "      <td>45.162939</td>\n",
       "    </tr>\n",
       "    <tr>\n",
       "      <th>4238</th>\n",
       "      <td>54.736363</td>\n",
       "    </tr>\n",
       "    <tr>\n",
       "      <th>4239</th>\n",
       "      <td>161.718970</td>\n",
       "    </tr>\n",
       "    <tr>\n",
       "      <th>4240</th>\n",
       "      <td>32.052955</td>\n",
       "    </tr>\n",
       "  </tbody>\n",
       "</table>\n",
       "</div>"
      ],
      "text/plain": [
       "      sum(estimated_time)\n",
       "4236           109.641683\n",
       "4237            45.162939\n",
       "4238            54.736363\n",
       "4239           161.718970\n",
       "4240            32.052955"
      ]
     },
     "execution_count": 107,
     "metadata": {},
     "output_type": "execute_result"
    }
   ],
   "source": [
    "test_y"
   ]
  },
  {
   "cell_type": "code",
   "execution_count": null,
   "metadata": {},
   "outputs": [],
   "source": []
  },
  {
   "cell_type": "code",
   "execution_count": 147,
   "metadata": {},
   "outputs": [
    {
     "name": "stdout",
     "output_type": "stream",
     "text": [
      "Fitting 2 folds for each of 9 candidates, totalling 18 fits\n"
     ]
    },
    {
     "name": "stderr",
     "output_type": "stream",
     "text": [
      "[Parallel(n_jobs=5)]: Using backend LokyBackend with 5 concurrent workers.\n",
      "[Parallel(n_jobs=5)]: Done  18 out of  18 | elapsed:   10.4s finished\n"
     ]
    },
    {
     "name": "stdout",
     "output_type": "stream",
     "text": [
      "-0.04675769327294432\n",
      "{'colsample_bytree': 0.7, 'learning_rate': 0.03, 'max_depth': 6, 'min_child_weight': 4, 'n_estimators': 500, 'nthread': 4, 'objective': 'reg:linear', 'silent': 1, 'subsample': 0.7}\n"
     ]
    }
   ],
   "source": [
    "xgb1 = XGBRegressor()\n",
    "parameters = {'nthread':[4], #when use hyperthread, xgboost may become slower\n",
    "              'objective':['reg:linear'],\n",
    "              'learning_rate': [.03, 0.05, .07], #so called `eta` value\n",
    "              'max_depth': [5, 6, 7],\n",
    "              'min_child_weight': [4],\n",
    "              'silent': [1],\n",
    "              'subsample': [0.7],\n",
    "              'colsample_bytree': [0.7],\n",
    "              'n_estimators': [500]}\n",
    "\n",
    "xgb_grid = GridSearchCV(xgb1,\n",
    "                        parameters,\n",
    "                        cv = 2,\n",
    "                        n_jobs = 5,\n",
    "                        verbose=True)\n",
    "\n",
    "xgb_grid.fit(train_x,\n",
    "         train_y)\n",
    "\n",
    "print(xgb_grid.best_score_)\n",
    "print(xgb_grid.best_params_)"
   ]
  },
  {
   "cell_type": "code",
   "execution_count": 155,
   "metadata": {},
   "outputs": [],
   "source": [
    "\n",
    "best_parameters = {'colsample_bytree': 0.7, \n",
    " 'learning_rate': 0.03, \n",
    " 'max_depth': 6, \n",
    " 'min_child_weight': 4, \n",
    " 'n_estimators': 500, \n",
    " 'nthread': 4, \n",
    " 'objective': 'reg:linear', \n",
    " 'subsample': 0.7}"
   ]
  },
  {
   "cell_type": "code",
   "execution_count": 156,
   "metadata": {},
   "outputs": [
    {
     "data": {
      "text/plain": [
       "<Figure size 1440x1440 with 0 Axes>"
      ]
     },
     "execution_count": 156,
     "metadata": {},
     "output_type": "execute_result"
    },
    {
     "data": {
      "text/plain": [
       "<Figure size 1440x1440 with 0 Axes>"
      ]
     },
     "metadata": {},
     "output_type": "display_data"
    }
   ],
   "source": [
    "from matplotlib.pyplot import figure\n",
    "figure(num=None, figsize=(20, 20))"
   ]
  },
  {
   "cell_type": "code",
   "execution_count": 157,
   "metadata": {},
   "outputs": [
    {
     "data": {
      "image/png": "[encoded data removed]",
      "text/plain": [
       "<Figure size 1440x1440 with 1 Axes>"
      ]
     },
     "metadata": {
      "needs_background": "light"
     },
     "output_type": "display_data"
    }
   ],
   "source": [
    "num_rounds = 1000\n",
    "\n",
    "dtrain = xgb.DMatrix(train_x, label=train_y)\n",
    "gbdt = xgb.train(best_parameters, dtrain, num_rounds)\n",
    "\n",
    "ax = plot_importance(gbdt)\n",
    "fig = ax.figure\n",
    "fig.set_size_inches(20, 20)\n",
    "pyplot.show()"
   ]
  },
  {
   "cell_type": "code",
   "execution_count": 51,
   "metadata": {},
   "outputs": [],
   "source": [
    "from sklearn.metrics import mean_squared_error\n",
    "from sklearn.model_selection import train_test_split\n",
    "from numpy import sort\n",
    "from sklearn.feature_selection import SelectFromModel\n",
    "from xgboost import XGBRegressor\n",
    "import math"
   ]
  },
  {
   "cell_type": "code",
   "execution_count": 52,
   "metadata": {},
   "outputs": [
    {
     "name": "stdout",
     "output_type": "stream",
     "text": [
      "[15:34:58] WARNING: /private/var/folders/lt/4lw1z7fx2bg3wv2cw19j9h5m0000gn/T/pip-install-8i90zoj8/xgboost/xgboost/src/objective/regression_obj.cu:167: reg:linear is now deprecated in favor of reg:squarederror.\n",
      "rmse: 33.97818191886594\n"
     ]
    }
   ],
   "source": [
    "num_rounds = 1000\n",
    "X_train, X_test, y_train, y_test = train_test_split(train_x, train_y, test_size=0.1, random_state=7)\n",
    "model = XGBRegressor(colsample_bytree= 0.7, \n",
    " learning_rate=0.03, \n",
    " max_depth=7, \n",
    " min_child_weight=4, \n",
    " n_estimators=500, \n",
    " nthread=4, \n",
    " objective='reg:linear', \n",
    " subsample=0.7,\n",
    " num_boost_round=1000,\n",
    " verbose = 1,)\n",
    "model.fit(X_train, y_train)\n",
    "# make predictions for test data and evaluate\n",
    "y_pred = model.predict(X_test)\n",
    "predictions = [round(value) for value in y_pred]\n",
    "mse = mean_squared_error(y_test, predictions)\n",
    "print(\"rmse: \"+ str(math.sqrt(mse)))"
   ]
  },
  {
   "cell_type": "code",
   "execution_count": 53,
   "metadata": {},
   "outputs": [],
   "source": [
    "import pickle\n",
    "file_name = \"xgb_reg.pkl\"\n",
    "pickle.dump(model, open(file_name, \"wb\"))\n"
   ]
  },
  {
   "cell_type": "code",
   "execution_count": null,
   "metadata": {},
   "outputs": [],
   "source": []
  },
  {
   "cell_type": "code",
   "execution_count": 153,
   "metadata": {},
   "outputs": [
    {
     "data": {
      "text/plain": [
       "<xgboost.core.Booster at 0x1c273bff98>"
      ]
     },
     "execution_count": 153,
     "metadata": {},
     "output_type": "execute_result"
    }
   ],
   "source": [
    "model.get_booster()"
   ]
  },
  {
   "cell_type": "code",
   "execution_count": 154,
   "metadata": {},
   "outputs": [
    {
     "name": "stdout",
     "output_type": "stream",
     "text": [
      "rmse: 19.451461473851474\n"
     ]
    }
   ],
   "source": [
    "y_pred_ = model.predict(X_train)\n",
    "predictions_ = [round(value) for value in y_pred_]\n",
    "mse_ = mean_squared_error(y_train, predictions_)\n",
    "print(\"rmse: \"+ str(math.sqrt(mse_)))"
   ]
  },
  {
   "cell_type": "code",
   "execution_count": null,
   "metadata": {},
   "outputs": [],
   "source": [
    "import pickle\n",
    "filename = 'xgboost_model.sav'\n",
    "pickle.dump(model, open(filename, 'wb'))\n"
   ]
  },
  {
   "cell_type": "code",
   "execution_count": 70,
   "metadata": {},
   "outputs": [],
   "source": [
    "class MyXGBRegressor(XGBRegressor):\n",
    "\t@property\n",
    "\tdef coef_(self):\n",
    "\t\treturn None"
   ]
  },
  {
   "cell_type": "code",
   "execution_count": 72,
   "metadata": {},
   "outputs": [
    {
     "name": "stdout",
     "output_type": "stream",
     "text": [
      "rmse: 48.59812268877009\n",
      "Thresh=0.000, n=62, rmse: 51.31\n",
      "Thresh=0.000, n=62, rmse: 51.31\n",
      "Thresh=0.000, n=62, rmse: 51.31\n",
      "Thresh=0.000, n=62, rmse: 51.31\n",
      "Thresh=0.000, n=62, rmse: 51.31\n",
      "Thresh=0.003, n=57, rmse: 51.31\n",
      "Thresh=0.004, n=56, rmse: 51.86\n",
      "Thresh=0.008, n=55, rmse: 51.65\n",
      "Thresh=0.009, n=54, rmse: 51.65\n",
      "Thresh=0.009, n=53, rmse: 51.65\n",
      "Thresh=0.010, n=52, rmse: 51.10\n",
      "Thresh=0.010, n=51, rmse: 50.76\n",
      "Thresh=0.010, n=50, rmse: 50.20\n",
      "Thresh=0.011, n=49, rmse: 51.24\n",
      "Thresh=0.012, n=48, rmse: 50.36\n",
      "Thresh=0.012, n=47, rmse: 51.22\n",
      "Thresh=0.012, n=46, rmse: 50.49\n",
      "Thresh=0.012, n=45, rmse: 51.77\n",
      "Thresh=0.013, n=44, rmse: 50.47\n",
      "Thresh=0.013, n=43, rmse: 51.34\n",
      "Thresh=0.013, n=42, rmse: 51.46\n",
      "Thresh=0.013, n=41, rmse: 50.38\n",
      "Thresh=0.014, n=40, rmse: 50.60\n",
      "Thresh=0.014, n=39, rmse: 51.08\n",
      "Thresh=0.014, n=38, rmse: 49.03\n",
      "Thresh=0.014, n=37, rmse: 49.68\n",
      "Thresh=0.014, n=36, rmse: 49.03\n",
      "Thresh=0.014, n=35, rmse: 49.29\n",
      "Thresh=0.014, n=34, rmse: 48.34\n",
      "Thresh=0.014, n=33, rmse: 49.77\n",
      "Thresh=0.014, n=32, rmse: 49.28\n",
      "Thresh=0.015, n=31, rmse: 48.23\n",
      "Thresh=0.015, n=30, rmse: 48.31\n",
      "Thresh=0.015, n=29, rmse: 49.27\n",
      "Thresh=0.015, n=28, rmse: 49.20\n",
      "Thresh=0.015, n=27, rmse: 48.42\n",
      "Thresh=0.016, n=26, rmse: 48.18\n",
      "Thresh=0.016, n=25, rmse: 49.62\n",
      "Thresh=0.016, n=24, rmse: 48.86\n",
      "Thresh=0.016, n=23, rmse: 50.80\n",
      "Thresh=0.017, n=22, rmse: 49.34\n",
      "Thresh=0.017, n=21, rmse: 50.27\n",
      "Thresh=0.017, n=20, rmse: 49.93\n",
      "Thresh=0.017, n=19, rmse: 50.61\n",
      "Thresh=0.017, n=18, rmse: 50.05\n",
      "Thresh=0.018, n=17, rmse: 49.69\n",
      "Thresh=0.018, n=16, rmse: 49.15\n",
      "Thresh=0.019, n=15, rmse: 48.56\n",
      "Thresh=0.020, n=14, rmse: 48.56\n",
      "Thresh=0.021, n=13, rmse: 48.14\n",
      "Thresh=0.021, n=12, rmse: 49.29\n",
      "Thresh=0.021, n=11, rmse: 64.65\n",
      "Thresh=0.024, n=10, rmse: 64.78\n",
      "Thresh=0.025, n=9, rmse: 64.79\n",
      "Thresh=0.030, n=8, rmse: 65.40\n",
      "Thresh=0.032, n=7, rmse: 65.78\n",
      "Thresh=0.032, n=6, rmse: 65.28\n",
      "Thresh=0.033, n=5, rmse: 66.51\n",
      "Thresh=0.033, n=4, rmse: 61.03\n",
      "Thresh=0.033, n=3, rmse: 61.04\n",
      "Thresh=0.039, n=2, rmse: 61.04\n",
      "Thresh=0.060, n=1, rmse: 74.40\n"
     ]
    }
   ],
   "source": [
    "X_train, X_test, y_train, y_test = train_test_split(train_x, train_y, test_size=0.1, random_state=7)\n",
    "model = MyXGBRegressor(colsample_bytree= 0.7, \n",
    " learning_rate=0.03, \n",
    " max_depth=7, \n",
    " min_child_weight=4, \n",
    " n_estimators=500, \n",
    " nthread=4, \n",
    " objective='reg:linear', \n",
    " silent=1, \n",
    " subsample=0.7)\n",
    "model.fit(X_train, y_train)\n",
    "# make predictions for test data and evaluate\n",
    "y_pred = model.predict(X_test)\n",
    "predictions = [round(value) for value in y_pred]\n",
    "mse = mean_squared_error(y_test, predictions)\n",
    "print(\"rmse: \"+ str(math.sqrt(mse)))\n",
    "thresholds = sort(model.feature_importances_)\n",
    "for thresh in thresholds:\n",
    "    # select features using threshold\n",
    "    selection = SelectFromModel(model, threshold=thresh, prefit=True)\n",
    "    select_X_train = selection.transform(X_train)\n",
    "    # train model\n",
    "    selection_model = XGBRegressor()\n",
    "    selection_model.fit(select_X_train, y_train)\n",
    "    # eval model\n",
    "    select_X_test = selection.transform(X_test)\n",
    "    predictions = selection_model.predict(select_X_test)\n",
    "    mse = mean_squared_error(y_test, predictions)\n",
    "    print(\"Thresh=%.3f, n=%d, rmse: %.2f\" % (thresh, select_X_train.shape[1], math.sqrt(mse)))"
   ]
  },
  {
   "cell_type": "code",
   "execution_count": null,
   "metadata": {},
   "outputs": [],
   "source": []
  },
  {
   "cell_type": "code",
   "execution_count": 69,
   "metadata": {},
   "outputs": [
    {
     "ename": "NameError",
     "evalue": "name 'y' is not defined",
     "output_type": "error",
     "traceback": [
      "\u001b[0;31m---------------------------------------------------------------------------\u001b[0m",
      "\u001b[0;31mNameError\u001b[0m                                 Traceback (most recent call last)",
      "\u001b[0;32m<ipython-input-69-68e3dfbf7c76>\u001b[0m in \u001b[0;36m<module>\u001b[0;34m\u001b[0m\n\u001b[0;32m----> 1\u001b[0;31m \u001b[0;32mdef\u001b[0m \u001b[0mtrain_model\u001b[0m\u001b[0;34m(\u001b[0m\u001b[0mX\u001b[0m\u001b[0;34m=\u001b[0m\u001b[0mX_train\u001b[0m\u001b[0;34m,\u001b[0m \u001b[0mX_test\u001b[0m\u001b[0;34m=\u001b[0m\u001b[0mX_test\u001b[0m\u001b[0;34m,\u001b[0m \u001b[0my\u001b[0m\u001b[0;34m=\u001b[0m\u001b[0my\u001b[0m\u001b[0;34m,\u001b[0m \u001b[0mparams\u001b[0m\u001b[0;34m=\u001b[0m\u001b[0;32mNone\u001b[0m\u001b[0;34m,\u001b[0m \u001b[0mfolds\u001b[0m\u001b[0;34m=\u001b[0m\u001b[0mkfolds\u001b[0m\u001b[0;34m,\u001b[0m \u001b[0mmodel_type\u001b[0m\u001b[0;34m=\u001b[0m\u001b[0;34m'lgb'\u001b[0m\u001b[0;34m,\u001b[0m \u001b[0mplot_feature_importance\u001b[0m\u001b[0;34m=\u001b[0m\u001b[0;32mFalse\u001b[0m\u001b[0;34m)\u001b[0m\u001b[0;34m:\u001b[0m\u001b[0;34m\u001b[0m\u001b[0;34m\u001b[0m\u001b[0m\n\u001b[0m\u001b[1;32m      2\u001b[0m     \u001b[0moof\u001b[0m \u001b[0;34m=\u001b[0m \u001b[0mnp\u001b[0m\u001b[0;34m.\u001b[0m\u001b[0mzeros\u001b[0m\u001b[0;34m(\u001b[0m\u001b[0mlen\u001b[0m\u001b[0;34m(\u001b[0m\u001b[0mX\u001b[0m\u001b[0;34m)\u001b[0m\u001b[0;34m)\u001b[0m\u001b[0;34m\u001b[0m\u001b[0;34m\u001b[0m\u001b[0m\n\u001b[1;32m      3\u001b[0m     \u001b[0mprediction\u001b[0m \u001b[0;34m=\u001b[0m \u001b[0mnp\u001b[0m\u001b[0;34m.\u001b[0m\u001b[0mzeros\u001b[0m\u001b[0;34m(\u001b[0m\u001b[0mlen\u001b[0m\u001b[0;34m(\u001b[0m\u001b[0mX_test\u001b[0m\u001b[0;34m)\u001b[0m\u001b[0;34m)\u001b[0m\u001b[0;34m\u001b[0m\u001b[0;34m\u001b[0m\u001b[0m\n\u001b[1;32m      4\u001b[0m     \u001b[0mscores\u001b[0m \u001b[0;34m=\u001b[0m \u001b[0;34m[\u001b[0m\u001b[0;34m]\u001b[0m\u001b[0;34m\u001b[0m\u001b[0;34m\u001b[0m\u001b[0m\n\u001b[1;32m      5\u001b[0m     \u001b[0mfeature_importance\u001b[0m \u001b[0;34m=\u001b[0m \u001b[0mpd\u001b[0m\u001b[0;34m.\u001b[0m\u001b[0mDataFrame\u001b[0m\u001b[0;34m(\u001b[0m\u001b[0;34m)\u001b[0m\u001b[0;34m\u001b[0m\u001b[0;34m\u001b[0m\u001b[0m\n",
      "\u001b[0;31mNameError\u001b[0m: name 'y' is not defined"
     ]
    }
   ],
   "source": [
    "def train_model(X=X_train, X_test=X_test, y=y, params=None, folds=kfolds, model_type='lgb', plot_feature_importance=False):\n",
    "    oof = np.zeros(len(X))\n",
    "    prediction = np.zeros(len(X_test))\n",
    "    scores = []\n",
    "    feature_importance = pd.DataFrame()\n",
    "    for fold_n, (train_index, valid_index) in enumerate(folds.split(X)):\n",
    "        print('Fold', fold_n, 'started at', time.ctime())\n",
    "        X_train, X_valid = X.iloc[train_index], X.iloc[valid_index]\n",
    "        y_train, y_valid = y.iloc[train_index], y.iloc[valid_index]\n",
    "        \n",
    "        if model_type == 'lgb':\n",
    "            model = lgb.LGBMRegressor(**params, n_estimators = 20000, nthread = 4, n_jobs = -1)\n",
    "            ###  rfecv  ###\n",
    "            selector = RFECV(estimator=model, cv=3)\n",
    "            selector.fit(X_train, y_train)\n",
    "            Good_features = []\n",
    "            #get pruned set of features' list\n",
    "            for i in range(len(selector.support_)):\n",
    "                if selector.support_[i]==True:\n",
    "                    Good_features.append(i)\n",
    "            model.fit(X_train[X_train.columns[Good_features]], y_train, \n",
    "                    eval_set=[(X_train[X_train.columns[Good_features]], y_train), (X_valid[X_valid.columns[Good_features]], y_valid)], eval_metric='rmse',\n",
    "                    verbose=1000, early_stopping_rounds=200)\n",
    "            y_pred_valid = model.predict(X_valid[X_valid.columns[Good_features]])\n",
    "            y_pred = model.predict(X_test[X_test.columns[Good_features]], num_iteration=model.best_iteration_)\n",
    "            \n",
    "        oof[valid_index] = y_pred_valid.reshape(-1,)\n",
    "        scores.append(mean_squared_error(y_valid, y_pred_valid) ** 0.5)\n",
    "        \n",
    "        prediction += y_pred  \n",
    "        if model_type == 'lgb':\n",
    "            # feature importance\n",
    "            fold_importance = pd.DataFrame()\n",
    "            fold_importance[\"feature\"] = X.columns\n",
    "            fold_importance[\"importance\"] = model.feature_importances_\n",
    "            fold_importance[\"fold\"] = fold_n + 1\n",
    "            feature_importance = pd.concat([feature_importance, fold_importance], axis=0)\n",
    "\n",
    "    prediction /= n_fold\n",
    "    \n",
    "    print('CV mean score: {0:.4f}, std: {1:.4f}.'.format(np.mean(scores), np.std(scores)))\n",
    "    \n",
    "    if model_type == 'lgb':\n",
    "        feature_importance[\"importance\"] /= n_fold\n",
    "        if plot_feature_importance:\n",
    "            cols = feature_importance[[\"feature\", \"importance\"]].groupby(\"feature\").mean().sort_values(\n",
    "                by=\"importance\", ascending=False)[:50].index\n",
    "\n",
    "            best_features = feature_importance.loc[feature_importance.feature.isin(cols)]\n",
    "\n",
    "            plt.figure(figsize=(16, 12));\n",
    "            sns.barplot(x=\"importance\", y=\"feature\", data=best_features.sort_values(by=\"importance\", ascending=False));\n",
    "            plt.title('LGB Features (avg over folds)');\n",
    "        \n",
    "            return oof, prediction, feature_importance\n",
    "        return oof, prediction\n",
    "    \n",
    "    else:\n",
    "        return oof, prediction"
   ]
  },
  {
   "cell_type": "code",
   "execution_count": 5,
   "metadata": {},
   "outputs": [],
   "source": [
    "params = {'num_leaves': 54,\n",
    "         'min_data_in_leaf': 79,\n",
    "         'objective': 'regression',\n",
    "         'max_depth': 15,\n",
    "         'learning_rate': 0.018545526395058548,\n",
    "         \"boosting\": \"gbdt\",\n",
    "         \"feature_fraction\": 0.8354507676881442,\n",
    "         \"bagging_freq\": 3,\n",
    "         \"bagging_fraction\": 0.8126672064208567,\n",
    "         \"bagging_seed\": 11,\n",
    "         \"metric\": 'rmse',\n",
    "         \"lambda_l1\": 0.1,\n",
    "         \"verbosity\": -1,\n",
    "         'min_child_weight': 5.343384366323818,\n",
    "         'reg_alpha': 1.1302650970728192,\n",
    "         'reg_lambda': 0.3603427518866501,\n",
    "         'subsample': 0.8767547959893627,}"
   ]
  },
  {
   "cell_type": "code",
   "execution_count": null,
   "metadata": {},
   "outputs": [],
   "source": []
  }
 ],
 "metadata": {
  "kernelspec": {
   "display_name": "ELO",
   "language": "python",
   "name": "elo"
  },
  "language_info": {
   "codemirror_mode": {
    "name": "ipython",
    "version": 3
   },
   "file_extension": ".py",
   "mimetype": "text/x-python",
   "name": "python",
   "nbconvert_exporter": "python",
   "pygments_lexer": "ipython3",
   "version": "3.6.7"
  }
 },
 "nbformat": 4,
 "nbformat_minor": 2
}
